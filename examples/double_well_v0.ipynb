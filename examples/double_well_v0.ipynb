{
 "cells": [
  {
   "cell_type": "code",
   "execution_count": 1,
   "id": "62acc182",
   "metadata": {},
   "outputs": [],
   "source": [
    "import sys\n",
    "sys.path.insert(0, \"../\")\n",
    "\n",
    "import os\n",
    "os.chdir(\"../\")"
   ]
  },
  {
   "cell_type": "code",
   "execution_count": 2,
   "id": "9315dfae",
   "metadata": {},
   "outputs": [
    {
     "name": "stderr",
     "output_type": "stream",
     "text": [
      "/tmp/ipykernel_112982/2825945601.py:7: TqdmWarning: IProgress not found. Please update jupyter and ipywidgets. See https://ipywidgets.readthedocs.io/en/stable/user_install.html\n",
      "  from tqdm.autonotebook import tqdm\n"
     ]
    }
   ],
   "source": [
    "import haiku as hk\n",
    "import jax\n",
    "import jax.numpy as jnp\n",
    "import numpy as np\n",
    "import chex\n",
    "import optax\n",
    "from tqdm.autonotebook import tqdm\n",
    "from functools import partial\n",
    "\n",
    "from flow.distribution import make_equivariant_augmented_flow_dist\n",
    "from target import double_well as dw\n",
    "from utils.loggers import ListLogger"
   ]
  },
  {
   "cell_type": "code",
   "execution_count": 3,
   "id": "7677202d",
   "metadata": {},
   "outputs": [],
   "source": [
    "USE_64_BIT = False\n",
    "if USE_64_BIT:\n",
    "    from jax.config import config\n",
    "    config.update(\"jax_enable_x64\", True)"
   ]
  },
  {
   "cell_type": "code",
   "execution_count": 4,
   "id": "4e0e925c",
   "metadata": {},
   "outputs": [],
   "source": [
    "from utils.plotting import plot_history\n",
    "import matplotlib.pyplot as plt"
   ]
  },
  {
   "cell_type": "code",
   "execution_count": 5,
   "id": "25871b29",
   "metadata": {},
   "outputs": [],
   "source": [
    "def load_dataset(batch_size, train_test_split_ratio: float = 0.8, seed = 0):\n",
    "    \"\"\"Load dataset and add augmented dataset N(0, 1). \"\"\"\n",
    "    # Make length divisible by batch size also.\n",
    "\n",
    "    dataset = np.load('target/data/dw_data_vertices2_dim2.npy')\n",
    "\n",
    "    augmented_dataset = jnp.mean(dataset, axis=(1, 2), keepdims=True) + \\\n",
    "                        jax.random.normal(jax.random.PRNGKey(seed), shape=dataset.shape)\n",
    "    dataset = jnp.concatenate((dataset, augmented_dataset), axis=-1)\n",
    "\n",
    "\n",
    "    train_index = int(dataset.shape[0] * train_test_split_ratio)\n",
    "    train_set = dataset[:train_index]\n",
    "    test_set = dataset[train_index:]\n",
    "\n",
    "    train_set = train_set[:-(train_set.shape[0] % batch_size)]\n",
    "    test_set = test_set[:-(test_set.shape[0] % batch_size)]\n",
    "    return train_set, test_set\n",
    "\n",
    "\n",
    "@partial(jax.jit, static_argnums=(2,))\n",
    "def eval(params, x, log_prob_fn,):\n",
    "    log_prob = log_prob_fn.apply(params, x)\n",
    "    info = {\"eval_log_lik\": jnp.mean(log_prob),\n",
    "            \"eval_kl\": jnp.mean(dw.log_prob_fn(x) - log_prob)}\n",
    "    return info\n",
    "\n",
    "\n",
    "def loss_fn(params, x, log_prob_fn):\n",
    "    log_prob = log_prob_fn.apply(params, x)\n",
    "    loss = - jnp.mean(log_prob)\n",
    "    info = {\"loss\": loss}\n",
    "    return loss, info\n",
    "\n",
    "\n",
    "\n",
    "@partial(jax.jit, static_argnums=(3, 4))\n",
    "def step(params, x, opt_state, log_prob_fn, optimizer):\n",
    "    grad, info = jax.grad(loss_fn, has_aux=True)(params, x, log_prob_fn)\n",
    "    updates, new_opt_state = optimizer.update(grad, opt_state, params=params)\n",
    "    new_params = optax.apply_updates(params, updates)\n",
    "    info.update(grad_norm=optax.global_norm(grad))\n",
    "    return new_params, new_opt_state, info\n",
    "\n",
    "\n",
    "def plot_sample_hist(samples, ax):\n",
    "    d = jnp.linalg.norm(samples[:, 0, :] - samples[:, 1, :], axis=-1)\n",
    "    ax.hist(d, bins=50, density=True, alpha=0.4)\n"
   ]
  },
  {
   "cell_type": "code",
   "execution_count": 6,
   "id": "3fe69ab6",
   "metadata": {},
   "outputs": [
    {
     "name": "stderr",
     "output_type": "stream",
     "text": [
      "No GPU/TPU found, falling back to CPU. (Set TF_CPP_MIN_LOG_LEVEL=0 and rerun for more info.)\n"
     ]
    },
    {
     "data": {
      "image/png": "[encoded data removed]",
      "text/plain": [
       "<Figure size 640x480 with 1 Axes>"
      ]
     },
     "metadata": {},
     "output_type": "display_data"
    }
   ],
   "source": [
    "n_epoch = int(1e3)\n",
    "max_global_norm = 100.0\n",
    "dim = 2\n",
    "lr = 4e-4\n",
    "n_nodes = 2\n",
    "n_layers = 8\n",
    "batch_size = 32\n",
    "mlp_units = (128, 128)\n",
    "key = jax.random.PRNGKey(0)\n",
    "flow_type = \"vector_scale_shift\"  # \"nice\", \"proj\", \"vector_scale_shift\"\n",
    "identity_init = False if flow_type == \"vector_scale_shift\" else True\n",
    "\n",
    "logger = ListLogger()\n",
    "\n",
    "\n",
    "@hk.without_apply_rng\n",
    "@hk.transform\n",
    "def log_prob_fn(x):\n",
    "    distribution = make_equivariant_augmented_flow_dist(\n",
    "        dim=dim, nodes=n_nodes, n_layers=n_layers,\n",
    "        flow_identity_init=identity_init, type=flow_type, mlp_units=mlp_units)\n",
    "    return distribution.log_prob(x)\n",
    "\n",
    "@hk.transform\n",
    "def sample_and_log_prob_fn(sample_shape=()):\n",
    "    distribution = make_equivariant_augmented_flow_dist(\n",
    "        dim=dim, nodes=n_nodes, n_layers=n_layers,\n",
    "        flow_identity_init=identity_init, type=flow_type, mlp_units=mlp_units)\n",
    "    return distribution.sample_and_log_prob(seed=hk.next_rng_key(), sample_shape=sample_shape)\n",
    "\n",
    "key, subkey = jax.random.split(key)\n",
    "params = log_prob_fn.init(rng=subkey, x=jnp.zeros((1, n_nodes, dim*2)))\n",
    "\n",
    "optimizer = optax.chain(optax.clip_by_global_norm(max_global_norm), optax.adam(lr))\n",
    "opt_state = optimizer.init(params)\n",
    "\n",
    "train_data, test_data = load_dataset(batch_size)\n",
    "\n",
    "def plot():\n",
    "    fig, ax = plt.subplots()\n",
    "    samples = sample_and_log_prob_fn.apply(params, jax.random.PRNGKey(0), (512,))[0]\n",
    "    plot_sample_hist(samples, ax)\n",
    "    plot_sample_hist(train_data, ax)\n",
    "    plt.show()\n",
    "\n",
    "plot()"
   ]
  },
  {
   "cell_type": "code",
   "execution_count": 7,
   "id": "df22456a",
   "metadata": {},
   "outputs": [
    {
     "name": "stderr",
     "output_type": "stream",
     "text": [
      "\r",
      "  0%|                                                                                                                                                                                                 | 0/1000 [00:00<?, ?it/s]"
     ]
    },
    {
     "name": "stdout",
     "output_type": "stream",
     "text": [
      "non numeric history values being saved\n"
     ]
    },
    {
     "data": {
      "image/png": "[encoded data removed]",
      "text/plain": [
       "<Figure size 640x480 with 1 Axes>"
      ]
     },
     "metadata": {},
     "output_type": "display_data"
    },
    {
     "name": "stderr",
     "output_type": "stream",
     "text": [
      "  1%|██                                                                                                                                                                                      | 11/1000 [00:34<52:03,  3.16s/it]\n"
     ]
    },
    {
     "ename": "Exception",
     "evalue": "nan grad encountered",
     "output_type": "error",
     "traceback": [
      "\u001b[0;31m---------------------------------------------------------------------------\u001b[0m",
      "\u001b[0;31mException\u001b[0m                                 Traceback (most recent call last)",
      "Cell \u001b[0;32mIn[7], line 7\u001b[0m\n\u001b[1;32m      5\u001b[0m     logger\u001b[38;5;241m.\u001b[39mwrite(info)\n\u001b[1;32m      6\u001b[0m \u001b[38;5;28;01mif\u001b[39;00m jnp\u001b[38;5;241m.\u001b[39misnan(info[\u001b[38;5;124m\"\u001b[39m\u001b[38;5;124mgrad_norm\u001b[39m\u001b[38;5;124m\"\u001b[39m]):\n\u001b[0;32m----> 7\u001b[0m     \u001b[38;5;28;01mraise\u001b[39;00m \u001b[38;5;167;01mException\u001b[39;00m(\u001b[38;5;124m\"\u001b[39m\u001b[38;5;124mnan grad encountered\u001b[39m\u001b[38;5;124m\"\u001b[39m)\n\u001b[1;32m      9\u001b[0m key, subkey \u001b[38;5;241m=\u001b[39m jax\u001b[38;5;241m.\u001b[39mrandom\u001b[38;5;241m.\u001b[39msplit(key)\n\u001b[1;32m     10\u001b[0m train_data \u001b[38;5;241m=\u001b[39m jax\u001b[38;5;241m.\u001b[39mrandom\u001b[38;5;241m.\u001b[39mpermutation(subkey, train_data, axis\u001b[38;5;241m=\u001b[39m\u001b[38;5;241m0\u001b[39m)\n",
      "\u001b[0;31mException\u001b[0m: nan grad encountered"
     ]
    }
   ],
   "source": [
    "pbar = tqdm(range(n_epoch))\n",
    "for i in pbar:\n",
    "    for x in jnp.reshape(train_data, (-1, batch_size, *train_data.shape[1:])):\n",
    "        params, opt_state, info = step(params, x, opt_state, log_prob_fn, optimizer)\n",
    "        logger.write(info)\n",
    "    if jnp.isnan(info[\"grad_norm\"]):\n",
    "        raise Exception(\"nan grad encountered\")\n",
    "\n",
    "    key, subkey = jax.random.split(key)\n",
    "    train_data = jax.random.permutation(subkey, train_data, axis=0)\n",
    "    if i % (n_epoch // 10) == 0:\n",
    "        plot()\n",
    "        eval_info = eval(params, test_data, log_prob_fn)\n",
    "        logger.write(eval_info)\n",
    "\n",
    "\n",
    "plot_history(logger.history)\n",
    "plt.show()"
   ]
  },
  {
   "cell_type": "code",
   "execution_count": null,
   "id": "c3c15b2b",
   "metadata": {},
   "outputs": [],
   "source": []
  }
 ],
 "metadata": {
  "kernelspec": {
   "display_name": "Python 3 (ipykernel)",
   "language": "python",
   "name": "python3"
  },
  "language_info": {
   "codemirror_mode": {
    "name": "ipython",
    "version": 3
   },
   "file_extension": ".py",
   "mimetype": "text/x-python",
   "name": "python",
   "nbconvert_exporter": "python",
   "pygments_lexer": "ipython3",
   "version": "3.10.8"
  }
 },
 "nbformat": 4,
 "nbformat_minor": 5
}
