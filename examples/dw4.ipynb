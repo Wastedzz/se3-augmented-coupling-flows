{
 "cells": [
  {
   "cell_type": "code",
   "execution_count": 1,
   "id": "363a92b4",
   "metadata": {},
   "outputs": [],
   "source": [
    "import sys\n",
    "sys.path.insert(0, \"../\")\n",
    "\n",
    "import os\n",
    "os.chdir(\"../\")"
   ]
  },
  {
   "cell_type": "code",
   "execution_count": 2,
   "id": "52f414de",
   "metadata": {},
   "outputs": [
    {
     "name": "stderr",
     "output_type": "stream",
     "text": [
      "/homes/lim24/augmented-equivariant-flows/examples/dw4_v0.py:5: TqdmWarning: IProgress not found. Please update jupyter and ipywidgets. See https://ipywidgets.readthedocs.io/en/stable/user_install.html\n",
      "  from tqdm.autonotebook import tqdm\n"
     ]
    }
   ],
   "source": [
    "from examples.dw4_v0 import *"
   ]
  },
  {
   "cell_type": "code",
   "execution_count": 3,
   "id": "a597767b",
   "metadata": {},
   "outputs": [],
   "source": [
    "USE_64_BIT = False\n",
    "if USE_64_BIT:\n",
    "    from jax.config import config\n",
    "    config.update(\"jax_enable_x64\", True)"
   ]
  },
  {
   "cell_type": "code",
   "execution_count": null,
   "id": "3923f98a",
   "metadata": {
    "scrolled": false
   },
   "outputs": [],
   "source": [
    "logger, params, log_prob_fn, sample_and_log_prob_fn = train(\n",
    "    n_epoch = int(512),\n",
    "    dim = 2,\n",
    "    lr = 1e-3,\n",
    "    n_nodes = 4,\n",
    "    n_layers = 8,\n",
    "    batch_size = 100,\n",
    "    max_global_norm = 100.0,  # jnp.inf\n",
    "    mlp_units = (32,),\n",
    "    key = jax.random.PRNGKey(0),\n",
    "    flow_type = \"vector_scale_shift\",  # \"nice\", \"proj\", \"vector_scale_shift\"\n",
    "    identity_init = True,\n",
    "    n_plots = 8)"
   ]
  },
  {
   "cell_type": "code",
   "execution_count": null,
   "id": "14fb3c74",
   "metadata": {},
   "outputs": [],
   "source": [
    "logger.history[\"eval_marginal_log_lik\"]"
   ]
  },
  {
   "cell_type": "code",
   "execution_count": null,
   "id": "46a6648a",
   "metadata": {},
   "outputs": [],
   "source": [
    "logger.history[\"grad_norm\"]"
   ]
  },
  {
   "cell_type": "code",
   "execution_count": null,
   "id": "f2e6b49a",
   "metadata": {},
   "outputs": [],
   "source": []
  },
  {
   "cell_type": "code",
   "execution_count": null,
   "id": "11275a27",
   "metadata": {},
   "outputs": [],
   "source": []
  }
 ],
 "metadata": {
  "kernelspec": {
   "display_name": "Python 3 (ipykernel)",
   "language": "python",
   "name": "python3"
  },
  "language_info": {
   "codemirror_mode": {
    "name": "ipython",
    "version": 3
   },
   "file_extension": ".py",
   "mimetype": "text/x-python",
   "name": "python",
   "nbconvert_exporter": "python",
   "pygments_lexer": "ipython3",
   "version": "3.10.8"
  }
 },
 "nbformat": 4,
 "nbformat_minor": 5
}
